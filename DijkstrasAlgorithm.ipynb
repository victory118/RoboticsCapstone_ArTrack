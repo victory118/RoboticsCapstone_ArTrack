{
 "cells": [
  {
   "cell_type": "markdown",
   "metadata": {},
   "source": [
    "Dijkstra's Shortest Path Algorithm\n",
    "-------------------------------------------------\n",
    "\n",
    "First define the test map as an array. Each entry in the array represents a grid cell on the map."
   ]
  },
  {
   "cell_type": "code",
   "execution_count": 17,
   "metadata": {},
   "outputs": [],
   "source": [
    "import numpy as np\n",
    "\n",
    "test_map1 = np.array([\n",
    "              [1, 1, 1, 1, 1, 1, 1, 1],\n",
    "              [1, 0, 0, 0, 0, 0, 0, 1],\n",
    "              [1, 0, 0, 0, 0, 0, 0, 1],\n",
    "              [1, 0, 0, 0, 0, 0, 0, 1],\n",
    "              [1, 0, 0, 0, 0, 0, 0, 1],\n",
    "              [1, 0, 0, 0, 0, 0, 0, 1],\n",
    "              [1, 0, 0, 0, 0, 0, 0, 1],\n",
    "              [1, 0, 0, 0, 0, 0, 0, 1],\n",
    "              [1, 0, 0, 0, 0, 0, 0, 1],\n",
    "              [1, 1, 1, 1, 1, 1, 1, 1]])\n",
    "occupancy_map = test_map1"
   ]
  },
  {
   "cell_type": "markdown",
   "metadata": {},
   "source": [
    "Define the spacing in the x (horizontal) direction between adjacent columns and the y (vertical) direction between adjacent rows. The positive x direction is to the right and the positive y direction is **downward**."
   ]
  },
  {
   "cell_type": "code",
   "execution_count": 18,
   "metadata": {},
   "outputs": [],
   "source": [
    "x_spacing1 = 0.13\n",
    "y_spacing1 = 0.2\n",
    "x_spacing = x_spacing1\n",
    "y_spacing = y_spacing1"
   ]
  },
  {
   "cell_type": "markdown",
   "metadata": {},
   "source": [
    "Define the start and goal positions."
   ]
  },
  {
   "cell_type": "code",
   "execution_count": 19,
   "metadata": {},
   "outputs": [],
   "source": [
    "start1 = np.array([[0.3], [0.3], [0]])\n",
    "goal1 = np.array([[0.6], [1], [0]])\n",
    "start = start1\n",
    "goal = goal1"
   ]
  },
  {
   "cell_type": "markdown",
   "metadata": {},
   "source": [
    "Keep track of the state of each grid cell by populating a new array. A value of 1 represents a free cell and a value of 2 represents an obstacle cell."
   ]
  },
  {
   "cell_type": "code",
   "execution_count": 20,
   "metadata": {},
   "outputs": [
    {
     "data": {
      "text/plain": [
       "array([[2., 2., 2., 2., 2., 2., 2., 2.],\n",
       "       [2., 1., 1., 1., 1., 1., 1., 2.],\n",
       "       [2., 1., 1., 1., 1., 1., 1., 2.],\n",
       "       [2., 1., 1., 1., 1., 1., 1., 2.],\n",
       "       [2., 1., 1., 1., 1., 1., 1., 2.],\n",
       "       [2., 1., 1., 1., 1., 1., 1., 2.],\n",
       "       [2., 1., 1., 1., 1., 1., 1., 2.],\n",
       "       [2., 1., 1., 1., 1., 1., 1., 2.],\n",
       "       [2., 1., 1., 1., 1., 1., 1., 2.],\n",
       "       [2., 2., 2., 2., 2., 2., 2., 2.]])"
      ]
     },
     "execution_count": 20,
     "metadata": {},
     "output_type": "execute_result"
    }
   ],
   "source": [
    "state_map = np.zeros(occupancy_map.shape) # state_map.shape = (8, 8)\n",
    "state_map[occupancy_map == 0] = 1\n",
    "state_map[occupancy_map == 1] = 2\n",
    "state_map"
   ]
  },
  {
   "cell_type": "markdown",
   "metadata": {},
   "source": [
    "Next we need to determine the node index of the starting position in both the x and y directions. A node is defined to be at the center of a grid cell. However, it is possible (and most likely the case) that the starting position is not exactly lined up with node and we need to find out which one of the four cases is true:\n",
    "\n",
    "1. Start position is between two nodes in the x-direction.\n",
    "2. Start position is between two nodes in the y-direction.\n",
    "3. Start position is between two nodes in the x and y directions.\n",
    "4. Start position is exactly on top of a node.\n",
    "\n",
    "Let's define a grid in the x and y directions to check for each of the cases. Array entries represent the position of the left edge of the grid cell (not the node)."
   ]
  },
  {
   "cell_type": "code",
   "execution_count": 58,
   "metadata": {},
   "outputs": [
    {
     "name": "stdout",
     "output_type": "stream",
     "text": [
      "x_grid = [0.   0.13 0.26 0.39 0.52 0.65 0.78 0.91]\n",
      "y_grid = [0.  0.2 0.4 0.6 0.8 1.  1.2 1.4 1.6 1.8]\n"
     ]
    }
   ],
   "source": [
    "x_grid = np.arange(state_map.shape[1])*x_spacing\n",
    "y_grid = np.arange(state_map.shape[0])*y_spacing\n",
    "print(\"x_grid = \" + str(x_grid))\n",
    "print(\"y_grid = \" + str(y_grid))"
   ]
  },
  {
   "cell_type": "markdown",
   "metadata": {},
   "source": [
    "Check if starting position is in between two nodes in the x-direction. This means the starting x-coordinate is on the edge of a grid cell."
   ]
  },
  {
   "cell_type": "code",
   "execution_count": 46,
   "metadata": {},
   "outputs": [
    {
     "name": "stdout",
     "output_type": "stream",
     "text": [
      "startBtw2xNodes = False\n",
      "jStart = 2\n"
     ]
    }
   ],
   "source": [
    "# tol = 1e-6\n",
    "startBtw2xNodes = False\n",
    "startBtw2yNodes = False\n",
    "if np.mod(start[0], x_spacing) == 0: # starting position exactly on edge of grid cell\n",
    "    jStart = np.asscalar(np.searchsorted(x_grid, start[0])) # find index in x_grid that corresponds to starting x-coordinate\n",
    "    startBtw2xNodes = True\n",
    "else:\n",
    "    jStart = np.asscalar(np.searchsorted(x_grid, start[0])) - 1 # find index in x_grid to the left of starting x-coordinate\n",
    "    \n",
    "print(\"startBtw2xNodes = \" + str(startBtw2xNodes)) # start = (0.3, 0.3) so should be false\n",
    "print(\"jStart = \" + str(jStart))"
   ]
  },
  {
   "cell_type": "markdown",
   "metadata": {},
   "source": [
    "Repeat the same procedure for y-direction. Check if starting position is in between two nodes in the y-direction. This means the starting y-coordinate is on the edge of a grid cell."
   ]
  },
  {
   "cell_type": "code",
   "execution_count": 47,
   "metadata": {},
   "outputs": [
    {
     "name": "stdout",
     "output_type": "stream",
     "text": [
      "startBtw2yNodes = False\n",
      "iStart = 1\n"
     ]
    }
   ],
   "source": [
    "if np.mod(start[1], y_spacing) == 0: # starting position exactly on edge of grid cell\n",
    "    iStart = np.asscalar(np.searchsorted(y_grid, start[1])) # find index in x_grid that corresponds to starting x-coordinate\n",
    "    startBtw2yNodes = True\n",
    "else:\n",
    "    iStart = np.asscalar(np.searchsorted(y_grid, start[1])) - 1 # find index in x_grid to the left of starting x-coordinate\n",
    "    \n",
    "print(\"startBtw2yNodes = \" + str(startBtw2yNodes)) # start = (0.3, 0.3) so should be false\n",
    "print(\"iStart = \" + str(iStart))"
   ]
  },
  {
   "cell_type": "markdown",
   "metadata": {},
   "source": [
    "Store all of the possible starting nodes in a list. If the starting position is exactly in between two nodes in the x and/or y-directions then this increases the number of possible starting nodes. If the starting position is exactly on a node, then the starting node is the starting position."
   ]
  },
  {
   "cell_type": "code",
   "execution_count": 51,
   "metadata": {},
   "outputs": [
    {
     "name": "stdout",
     "output_type": "stream",
     "text": [
      "possibleStartNodes =\n",
      "(1, 2)\n"
     ]
    }
   ],
   "source": [
    "if startBtw2xNodes and startBtw2yNodes:\n",
    "    possibleStartNodes = [(iStart,jStart),(iStart,jStart-1),(iStart-1,jStart),(iStart-1,jStart-1)]\n",
    "elif startBtw2xNodes:\n",
    "    possibleStartNodes = [(iStart,jStart),(iStart,jStart-1)]\n",
    "elif startBtw2yNodes:\n",
    "    possibleStartNodes = [(iStart,jStart),(iStart-1,jStart)]\n",
    "else:\n",
    "    possibleStartNodes = [(iStart,jStart)]\n",
    "    \n",
    "print(\"possibleStartNodes =\")\n",
    "print('\\n'.join(map(str, possibleStartNodes)))"
   ]
  },
  {
   "cell_type": "code",
   "execution_count": null,
   "metadata": {},
   "outputs": [],
   "source": []
  },
  {
   "cell_type": "code",
   "execution_count": null,
   "metadata": {},
   "outputs": [],
   "source": []
  },
  {
   "cell_type": "code",
   "execution_count": null,
   "metadata": {},
   "outputs": [],
   "source": []
  }
 ],
 "metadata": {
  "kernelspec": {
   "display_name": "Python 3",
   "language": "python",
   "name": "python3"
  },
  "language_info": {
   "codemirror_mode": {
    "name": "ipython",
    "version": 3
   },
   "file_extension": ".py",
   "mimetype": "text/x-python",
   "name": "python",
   "nbconvert_exporter": "python",
   "pygments_lexer": "ipython3",
   "version": "3.6.5"
  }
 },
 "nbformat": 4,
 "nbformat_minor": 2
}
