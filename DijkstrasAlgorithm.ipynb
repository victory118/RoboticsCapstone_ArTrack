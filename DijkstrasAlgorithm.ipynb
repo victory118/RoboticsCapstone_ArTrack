{
 "cells": [
  {
   "cell_type": "markdown",
   "metadata": {},
   "source": [
    "Dijkstra's Shortest Path Algorithm\n",
    "-------------------------------------------------\n",
    "\n",
    "First define the test map as an array. Each entry in the array represents a grid cell on the map."
   ]
  },
  {
   "cell_type": "code",
   "execution_count": 1,
   "metadata": {},
   "outputs": [],
   "source": [
    "import numpy as np\n",
    "\n",
    "# test_map1 = np.array([\n",
    "#               [1, 1, 1, 1, 1, 1, 1, 1],\n",
    "#               [1, 0, 0, 0, 0, 0, 0, 1],\n",
    "#               [1, 0, 0, 0, 0, 0, 0, 1],\n",
    "#               [1, 0, 0, 0, 0, 0, 0, 1],\n",
    "#               [1, 0, 0, 0, 0, 0, 0, 1],\n",
    "#               [1, 0, 0, 0, 0, 0, 0, 1],\n",
    "#               [1, 0, 0, 0, 0, 0, 0, 1],\n",
    "#               [1, 0, 0, 0, 0, 0, 0, 1],\n",
    "#               [1, 0, 0, 0, 0, 0, 0, 1],\n",
    "#               [1, 1, 1, 1, 1, 1, 1, 1]])\n",
    "\n",
    "test_map1 = np.array([\n",
    "             [0, 0, 0, 0, 0, 0, 0, 0],\n",
    "             [0, 0, 0, 0, 0, 0, 0, 0],\n",
    "             [0, 0, 0, 0, 0, 0, 0, 0],\n",
    "             [1, 1, 1, 1, 1, 1, 1, 1],\n",
    "             [1, 0, 0, 1, 1, 0, 0, 1],\n",
    "             [1, 0, 0, 1, 1, 0, 0, 1],\n",
    "             [1, 0, 0, 1, 1, 0, 0, 1],\n",
    "             [1, 0, 0, 0, 0, 0, 0, 1],\n",
    "             [1, 0, 0, 0, 0, 0, 0, 1],\n",
    "             [1, 1, 1, 1, 1, 1, 1, 1]])\n",
    "occupancy_map = test_map1"
   ]
  },
  {
   "cell_type": "markdown",
   "metadata": {},
   "source": [
    "Define the spacing in the x (horizontal) direction between adjacent columns and the y (vertical) direction between adjacent rows. The positive x direction is to the right and the positive y direction is **downward**."
   ]
  },
  {
   "cell_type": "code",
   "execution_count": 2,
   "metadata": {},
   "outputs": [],
   "source": [
    "# x_spacing1 = 0.13\n",
    "# y_spacing1 = 0.2\n",
    "x_spacing1 = 0.2\n",
    "y_spacing1 = 0.2\n",
    "x_spacing = x_spacing1\n",
    "y_spacing = y_spacing1"
   ]
  },
  {
   "cell_type": "markdown",
   "metadata": {},
   "source": [
    "Define the start and goal positions."
   ]
  },
  {
   "cell_type": "code",
   "execution_count": 3,
   "metadata": {},
   "outputs": [],
   "source": [
    "# start1 = np.array([[0.3], [0.3], [0]])\n",
    "# goal1 = np.array([[0.6], [1], [0]])\n",
    "start1 = np.array([[0.5], [1.0], [1.5707963267948966]])\n",
    "goal1 = np.array([[1.1], [0.9], [-1.5707963267948966]])\n",
    "start = start1\n",
    "goal = goal1"
   ]
  },
  {
   "cell_type": "markdown",
   "metadata": {},
   "source": [
    "Keep track of the state of each grid cell by populating a new array. A value of 1 represents a free cell and a value of 2 represents an obstacle cell."
   ]
  },
  {
   "cell_type": "code",
   "execution_count": 4,
   "metadata": {},
   "outputs": [
    {
     "data": {
      "text/plain": [
       "array([[1., 1., 1., 1., 1., 1., 1., 1.],\n",
       "       [1., 1., 1., 1., 1., 1., 1., 1.],\n",
       "       [1., 1., 1., 1., 1., 1., 1., 1.],\n",
       "       [2., 2., 2., 2., 2., 2., 2., 2.],\n",
       "       [2., 1., 1., 2., 2., 1., 1., 2.],\n",
       "       [2., 1., 1., 2., 2., 1., 1., 2.],\n",
       "       [2., 1., 1., 2., 2., 1., 1., 2.],\n",
       "       [2., 1., 1., 1., 1., 1., 1., 2.],\n",
       "       [2., 1., 1., 1., 1., 1., 1., 2.],\n",
       "       [2., 2., 2., 2., 2., 2., 2., 2.]])"
      ]
     },
     "execution_count": 4,
     "metadata": {},
     "output_type": "execute_result"
    }
   ],
   "source": [
    "state_map = np.zeros(occupancy_map.shape) # state_map.shape = (8, 8)\n",
    "state_map[occupancy_map == 0] = 1\n",
    "state_map[occupancy_map == 1] = 2\n",
    "state_map"
   ]
  },
  {
   "cell_type": "markdown",
   "metadata": {},
   "source": [
    "Next we need to determine the node index of the starting position in both the x and y directions. A node is defined to be at the center of a grid cell. However, it is possible (and most likely the case) that the starting position is not exactly lined up with node and we need to find out which one of the four cases is true:\n",
    "\n",
    "1. Start position is between two nodes in the x-direction.\n",
    "2. Start position is between two nodes in the y-direction.\n",
    "3. Start position is between two nodes in the x and y directions.\n",
    "4. Start position is exactly on top of a node.\n",
    "\n",
    "Let's define a grid in the x and y directions to check for each of the cases. Array entries represent the position of the left edge of the grid cell (not the node)."
   ]
  },
  {
   "cell_type": "code",
   "execution_count": 5,
   "metadata": {},
   "outputs": [
    {
     "name": "stdout",
     "output_type": "stream",
     "text": [
      "x_grid = [0.  0.2 0.4 0.6 0.8 1.  1.2 1.4]\n",
      "y_grid = [0.  0.2 0.4 0.6 0.8 1.  1.2 1.4 1.6 1.8]\n"
     ]
    }
   ],
   "source": [
    "x_grid = np.arange(state_map.shape[1])*x_spacing\n",
    "y_grid = np.arange(state_map.shape[0])*y_spacing\n",
    "print(\"x_grid = \" + str(x_grid))\n",
    "print(\"y_grid = \" + str(y_grid))"
   ]
  },
  {
   "cell_type": "markdown",
   "metadata": {},
   "source": [
    "Check if starting position is in between two nodes in the x-direction. This means the starting x-coordinate is on the edge of a grid cell."
   ]
  },
  {
   "cell_type": "code",
   "execution_count": 6,
   "metadata": {},
   "outputs": [
    {
     "name": "stdout",
     "output_type": "stream",
     "text": [
      "startBtw2xNodes = False\n",
      "jStart = 2\n"
     ]
    }
   ],
   "source": [
    "tol = 1e-6\n",
    "startBtw2xNodes = False\n",
    "startBtw2yNodes = False\n",
    "if np.abs(np.mod(start[0].item(), x_spacing) - x_spacing) < tol: # starting position exactly on edge of grid cell\n",
    "    jStart = np.asscalar(np.searchsorted(x_grid, start[0])) # find index in x_grid that corresponds to starting x-coordinate\n",
    "    startBtw2xNodes = True\n",
    "else:\n",
    "    jStart = np.asscalar(np.searchsorted(x_grid, start[0])) - 1 # find index in x_grid to the left of starting x-coordinate\n",
    "    \n",
    "print(\"startBtw2xNodes = \" + str(startBtw2xNodes)) # start = (0.3, 0.3) so should be false\n",
    "print(\"jStart = \" + str(jStart))"
   ]
  },
  {
   "cell_type": "markdown",
   "metadata": {},
   "source": [
    "Repeat the same procedure for y-direction. Check if starting position is in between two nodes in the y-direction. This means the starting y-coordinate is on the edge of a grid cell."
   ]
  },
  {
   "cell_type": "code",
   "execution_count": 7,
   "metadata": {},
   "outputs": [
    {
     "name": "stdout",
     "output_type": "stream",
     "text": [
      "startBtw2yNodes = True\n",
      "iStart = 5\n"
     ]
    }
   ],
   "source": [
    "if np.abs(np.mod(start[1].item(), y_spacing) - y_spacing) < tol: # starting position exactly on edge of grid cell\n",
    "    iStart = np.asscalar(np.searchsorted(y_grid, start[1])) # find index in x_grid that corresponds to starting x-coordinate\n",
    "    startBtw2yNodes = True\n",
    "else:\n",
    "    iStart = np.asscalar(np.searchsorted(y_grid, start[1])) - 1 # find index in x_grid to the left of starting x-coordinate\n",
    "    \n",
    "print(\"startBtw2yNodes = \" + str(startBtw2yNodes)) # start = (0.3, 0.3) so should be false\n",
    "print(\"iStart = \" + str(iStart))"
   ]
  },
  {
   "cell_type": "code",
   "execution_count": 8,
   "metadata": {},
   "outputs": [
    {
     "name": "stdout",
     "output_type": "stream",
     "text": [
      "1.0\n",
      "0.2\n",
      "1\n"
     ]
    },
    {
     "data": {
      "text/plain": [
       "0.19999999999999996"
      ]
     },
     "execution_count": 8,
     "metadata": {},
     "output_type": "execute_result"
    }
   ],
   "source": [
    "print(start[1].item())\n",
    "print(y_spacing)\n",
    "print(np.abs(-1))\n",
    "np.mod(start[1].item(), y_spacing)"
   ]
  },
  {
   "cell_type": "markdown",
   "metadata": {},
   "source": [
    "Store all of the possible starting nodes in a list. If the starting position is exactly in between two nodes in the x and/or y-directions then this increases the number of possible starting nodes. If the starting position is exactly on a node, then the starting node is the starting position."
   ]
  },
  {
   "cell_type": "code",
   "execution_count": 9,
   "metadata": {},
   "outputs": [
    {
     "name": "stdout",
     "output_type": "stream",
     "text": [
      "possibleStartNodes =\n",
      "(5, 2)\n",
      "(4, 2)\n"
     ]
    }
   ],
   "source": [
    "if startBtw2xNodes and startBtw2yNodes:\n",
    "    possibleStartNodes = [(iStart,jStart),(iStart,jStart-1),(iStart-1,jStart),(iStart-1,jStart-1)]\n",
    "elif startBtw2xNodes:\n",
    "    possibleStartNodes = [(iStart,jStart),(iStart,jStart-1)]\n",
    "elif startBtw2yNodes:\n",
    "    possibleStartNodes = [(iStart,jStart),(iStart-1,jStart)]\n",
    "else:\n",
    "    possibleStartNodes = [(iStart,jStart)]\n",
    "    \n",
    "print(\"possibleStartNodes =\")\n",
    "print('\\n'.join(map(str, possibleStartNodes)))"
   ]
  },
  {
   "cell_type": "code",
   "execution_count": 10,
   "metadata": {},
   "outputs": [
    {
     "name": "stdout",
     "output_type": "stream",
     "text": [
      "start_node = (5, 2)\n",
      "start_linInd = 42\n"
     ]
    }
   ],
   "source": [
    "# Initialize start node\n",
    "start_node = (iStart, jStart)\n",
    "\n",
    "# Initialize linear node position in row-major order\n",
    "start_linInd = np.ravel_multi_index(start_node, state_map.shape)\n",
    "\n",
    "print(\"start_node = \" + str(start_node))\n",
    "print(\"start_linInd = \" + str(start_linInd))"
   ]
  },
  {
   "cell_type": "markdown",
   "metadata": {},
   "source": [
    "Repeat the same procedure for the goal position."
   ]
  },
  {
   "cell_type": "code",
   "execution_count": 11,
   "metadata": {},
   "outputs": [
    {
     "name": "stdout",
     "output_type": "stream",
     "text": [
      "goalBtw2xNodes = False\n",
      "jGoal = 5\n",
      "goalBtw2yNodes = False\n",
      "iGoal = 4\n"
     ]
    }
   ],
   "source": [
    "goalBtw2xNodes = False\n",
    "goalBtw2yNodes = False\n",
    "if np.abs(np.mod(goal[0].item(), x_spacing) - x_spacing) < tol: # starting position exactly on edge of grid cell\n",
    "    jGoal = np.asscalar(np.searchsorted(x_grid, goal[0])) # find index in x_grid that corresponds to starting x-coordinate\n",
    "    goalBtw2xNodes = True\n",
    "else:\n",
    "    jGoal = np.asscalar(np.searchsorted(x_grid, goal[0])) - 1 # find index in x_grid to the left of starting x-coordinate\n",
    "\n",
    "if np.abs(np.mod(goal[0].item(), y_spacing) - y_spacing) < tol: # starting position exactly on edge of grid cell\n",
    "    iGoal = np.asscalar(np.searchsorted(y_grid, goal[1])) # find index in x_grid that corresponds to starting x-coordinate\n",
    "    goalBtw2yNodes = True\n",
    "else:\n",
    "    iGoal = np.asscalar(np.searchsorted(y_grid, goal[1])) - 1 # find index in x_grid to the left of starting x-coordinate\n",
    "\n",
    "if goalBtw2xNodes and goalBtw2yNodes:\n",
    "    possibleGoalNodes = [(iGoal,jGoal),(iGoal,jGoal-1),(iGoal-1,jGoal),(iGoal-1,jGoal-1)]\n",
    "elif goalBtw2xNodes:\n",
    "    possibleGoalNodes = [(iGoal,jGoal),(iGoal,jGoal-1)]\n",
    "elif goalBtw2yNodes:\n",
    "    possibleGoalNodes = [(iGoal,jGoal),(iGoal-1,jGoal)]\n",
    "else:\n",
    "    possibleGoalNodes = [(iGoal,jGoal)]\n",
    "\n",
    "# Initialize goal node\n",
    "goal_node = (iGoal, jGoal)\n",
    "\n",
    "# Initialize linear node position in row-major order\n",
    "goal_linInd = np.ravel_multi_index(goal_node, state_map.shape)\n",
    "\n",
    "print(\"goalBtw2xNodes = \" + str(goalBtw2xNodes))\n",
    "print(\"jGoal = \" + str(jGoal))\n",
    "print(\"goalBtw2yNodes = \" + str(goalBtw2yNodes))\n",
    "print(\"iGoal = \" + str(iGoal))"
   ]
  },
  {
   "cell_type": "markdown",
   "metadata": {},
   "source": [
    "Initialize 2-D array where each cell holds the distance from start node."
   ]
  },
  {
   "cell_type": "code",
   "execution_count": 12,
   "metadata": {},
   "outputs": [],
   "source": [
    "distanceFromStart = np.full(state_map.shape, np.inf) # 10x10 array of inf"
   ]
  },
  {
   "cell_type": "markdown",
   "metadata": {},
   "source": [
    "Initialize 2-D array where each cell holds the index of its parent."
   ]
  },
  {
   "cell_type": "code",
   "execution_count": 13,
   "metadata": {},
   "outputs": [],
   "source": [
    "parent = np.zeros(state_map.shape)"
   ]
  },
  {
   "cell_type": "code",
   "execution_count": 14,
   "metadata": {},
   "outputs": [],
   "source": [
    "# Initialize distance from start at the start node to zero.\n",
    "distanceFromStart[start_node] = 0"
   ]
  },
  {
   "cell_type": "code",
   "execution_count": 15,
   "metadata": {},
   "outputs": [
    {
     "ename": "SyntaxError",
     "evalue": "invalid syntax (<ipython-input-15-6398a25ee49b>, line 6)",
     "output_type": "error",
     "traceback": [
      "\u001b[0;36m  File \u001b[0;32m\"<ipython-input-15-6398a25ee49b>\"\u001b[0;36m, line \u001b[0;32m6\u001b[0m\n\u001b[0;31m    while True\u001b[0m\n\u001b[0m              ^\u001b[0m\n\u001b[0;31mSyntaxError\u001b[0m\u001b[0;31m:\u001b[0m invalid syntax\n"
     ]
    }
   ],
   "source": [
    "# Begin while loop\n",
    "\n",
    "# Update state map with start node\n",
    "state_map[start_node] = 5\n",
    "\n",
    "while True\n",
    "\n",
    "    # Find node with minimum distance from start\n",
    "    min_dist = np.min(distanceFromStart)\n",
    "    current_linInd = np.argmin(distanceFromStart) # linear index of new current node\n",
    "    current_node = np.unravel_index(np.argmin(distanceFromStart), distanceFromStart.shape) # (i,j) tuple\n",
    "    \n",
    "    if (current_node in possibleGoalNodes):\n",
    "        goal_node = current_node\n",
    "        break\n",
    "    \n",
    "    # Update map: mark current node as visited\n",
    "    state_map[current_node] = 3\n",
    "    \n",
    "    # Visit each neighbor of the current node and update the map, distances, and parent tables\n",
    "    iVec = np.array([current_node[0] - 1, current_node[0], current_node[0] + 1, current_node[0]])\n",
    "    jVec = np.array([current_node[1], current_node[1] + 1, current_node[1], current_node[1] - 1])\n",
    "    \n",
    "    neighbor_nodes = [tuple([iVec[i],jVec[i]]) for i in range(4)]\n",
    "    \n",
    "    for neighbor in neighbor_nodes:\n",
    "            \n",
    "        # Skip node if out of range\n",
    "        if neighbor[0] < 0 or neighbor[0] > state_map.shape[0] - 1:\n",
    "            continue\n",
    "                \n",
    "        if neighbor[1] < 0 or neighbor[1] > state_map.shape[1] - 1:\n",
    "            continue\n",
    "                \n",
    "        # Skip node if obstacle, already visited, or start node\n",
    "        if state_map[neighbor] == 2 or state_map[neighbor] == 3 or neighbor == start_node:\n",
    "            continue\n",
    "                \n",
    "        if state_map[neighbor] == 4:\n",
    "            # Check if the neighbor cell has been visited yet\n",
    "            if distanceFromStart[neighbor] > distanceFromStart[current_node] + 1:\n",
    "                distanceFromStart[neighbor] = distanceFromStart[current_node] + 1\n",
    "                parent[neighbor] = current_linInd\n",
    "        else:\n",
    "            state_map[neighbor] = 4 # Add node to be considered\n",
    "            distanceFromStart[neighbor] = distanceFromStart[current_node] + 1\n",
    "            parent[neighbor] = current_linInd\n",
    "     \n",
    "    # Remove this node from further consideration\n",
    "    distanceFromStart[current_node] = np.inf\n"
   ]
  },
  {
   "cell_type": "code",
   "execution_count": null,
   "metadata": {},
   "outputs": [],
   "source": [
    "min_dist = np.min(distanceFromStart)\n",
    "min_dist"
   ]
  },
  {
   "cell_type": "code",
   "execution_count": null,
   "metadata": {},
   "outputs": [],
   "source": [
    "current_linInd = np.argmin(distanceFromStart) # linear index of new current node\n",
    "current_linInd"
   ]
  },
  {
   "cell_type": "code",
   "execution_count": null,
   "metadata": {},
   "outputs": [],
   "source": [
    "np.argmin(distanceFromStart)"
   ]
  },
  {
   "cell_type": "code",
   "execution_count": null,
   "metadata": {},
   "outputs": [],
   "source": [
    "distanceFromStart"
   ]
  },
  {
   "cell_type": "code",
   "execution_count": null,
   "metadata": {},
   "outputs": [],
   "source": []
  }
 ],
 "metadata": {
  "kernelspec": {
   "display_name": "Python 3",
   "language": "python",
   "name": "python3"
  },
  "language_info": {
   "codemirror_mode": {
    "name": "ipython",
    "version": 3
   },
   "file_extension": ".py",
   "mimetype": "text/x-python",
   "name": "python",
   "nbconvert_exporter": "python",
   "pygments_lexer": "ipython3",
   "version": "3.6.5"
  }
 },
 "nbformat": 4,
 "nbformat_minor": 2
}
